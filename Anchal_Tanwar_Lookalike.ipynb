{
  "nbformat": 4,
  "nbformat_minor": 0,
  "metadata": {
    "colab": {
      "provenance": []
    },
    "kernelspec": {
      "name": "python3",
      "display_name": "Python 3"
    },
    "language_info": {
      "name": "python"
    }
  },
  "cells": [
    {
      "cell_type": "markdown",
      "source": [
        "Import the libraries"
      ],
      "metadata": {
        "id": "0q9Fy-iJn52D"
      }
    },
    {
      "cell_type": "code",
      "execution_count": 1,
      "metadata": {
        "id": "IaboqF58mu9v"
      },
      "outputs": [],
      "source": [
        "import pandas as pd\n",
        "from sklearn.feature_extraction.text import TfidfVectorizer\n",
        "from sklearn.metrics.pairwise import cosine_similarity\n",
        "import numpy as np\n"
      ]
    },
    {
      "cell_type": "markdown",
      "source": [
        "Load datasets"
      ],
      "metadata": {
        "id": "l-thZ9Min47z"
      }
    },
    {
      "cell_type": "code",
      "source": [
        "transactions_df = pd.read_csv('Transactions.csv')\n",
        "products_df = pd.read_csv('Products.csv')\n",
        "customers_df = pd.read_csv('Customers.csv')\n"
      ],
      "metadata": {
        "id": "4AWLDX_En-e-"
      },
      "execution_count": 5,
      "outputs": []
    },
    {
      "cell_type": "markdown",
      "source": [
        "Merge datasets"
      ],
      "metadata": {
        "id": "8o5OmMUVoBcn"
      }
    },
    {
      "cell_type": "code",
      "source": [
        "transactions_merged = transactions_df.merge(products_df, on='ProductID')\n",
        "transactions_merged = transactions_merged.merge(customers_df, on='CustomerID')"
      ],
      "metadata": {
        "id": "j9ettmV8oDI7"
      },
      "execution_count": 6,
      "outputs": []
    },
    {
      "cell_type": "markdown",
      "source": [
        "Aggregate transaction history by customer"
      ],
      "metadata": {
        "id": "2SetALCyoFQy"
      }
    },
    {
      "cell_type": "code",
      "source": [
        "customer_profiles = transactions_merged.groupby('CustomerID').agg({\n",
        "'ProductName': lambda x: ' '.join(x),\n",
        "'Category': lambda x: ' '.join(x),\n",
        "'TotalValue': 'sum',\n",
        "}).reset_index()"
      ],
      "metadata": {
        "id": "tCRf7VWJoG55"
      },
      "execution_count": 7,
      "outputs": []
    },
    {
      "cell_type": "markdown",
      "source": [
        "Combine textual and numerical data to create customer profiles"
      ],
      "metadata": {
        "id": "qrwHRr6moLuO"
      }
    },
    {
      "cell_type": "code",
      "source": [
        "customer_profiles['CombinedFeatures'] = (\n",
        "customer_profiles['ProductName'] + ' ' + customer_profiles['Category'] + ' ' + customer_profiles['TotalValue'].astype(str)\n",
        ")"
      ],
      "metadata": {
        "id": "7pV4P6TMoMkf"
      },
      "execution_count": 8,
      "outputs": []
    },
    {
      "cell_type": "markdown",
      "source": [
        "\n",
        "Use TF-IDF Vectorizer to encode textual features"
      ],
      "metadata": {
        "id": "Apw0KfV5oO2a"
      }
    },
    {
      "cell_type": "code",
      "source": [
        "vectorizer = TfidfVectorizer()\n",
        "customer_tfidf = vectorizer.fit_transform(customer_profiles['CombinedFeatures'])"
      ],
      "metadata": {
        "id": "hAlGmP_qoe-R"
      },
      "execution_count": 9,
      "outputs": []
    },
    {
      "cell_type": "markdown",
      "source": [
        "Compute similarity matrix"
      ],
      "metadata": {
        "id": "rBcnIr0NohmY"
      }
    },
    {
      "cell_type": "code",
      "source": [
        "similarity_matrix = cosine_similarity(customer_tfidf)"
      ],
      "metadata": {
        "id": "Ocoe5eZsoknO"
      },
      "execution_count": 10,
      "outputs": []
    },
    {
      "cell_type": "markdown",
      "source": [
        "Generate lookalike recommendations\n"
      ],
      "metadata": {
        "id": "EjZ3vpKeonI0"
      }
    },
    {
      "cell_type": "code",
      "source": [
        "lookalikes = {}\n",
        "\n",
        "for idx, customer_id in enumerate(customer_profiles['CustomerID']):\n",
        "# Get similarity scores for the current customer\n",
        "  similarity_scores = list(enumerate(similarity_matrix[idx]))\n",
        "\n",
        "# Sort by similarity score in descending order, excluding the customer itself\n",
        "  similar_customers = sorted(similarity_scores, key=lambda x: x[1], reverse=True)\n",
        "  similar_customers = [(customer_profiles.iloc[i]['CustomerID'], score) for i, score in similar_customers if i != idx]\n",
        "\n",
        "# Select top 3 similar customers\n",
        "  lookalikes[customer_id] = similar_customers[:3]\n",
        "\n",
        "# Filter for the first 20 customers (C0001 to C0020)\n",
        "\n",
        "lookalikes_filtered = {k: v for k, v in lookalikes.items() if k in customers_df['CustomerID'][:20].values}\n"
      ],
      "metadata": {
        "id": "1-XdtTN8opIj"
      },
      "execution_count": 13,
      "outputs": []
    },
    {
      "cell_type": "markdown",
      "source": [
        "Convert lookalikes to DataFrame and save as CSV"
      ],
      "metadata": {
        "id": "u0PPIyuSpJGd"
      }
    },
    {
      "cell_type": "code",
      "source": [
        "lookalike_data = []\n",
        "for cust_id, similars in lookalikes_filtered.items():\n",
        "    lookalike_data.append({\n",
        "        'cust_id': cust_id,\n",
        "        'lookalikes': [(similar_id, round(score, 3)) for similar_id, score in similars]\n",
        "    })\n",
        "\n",
        "lookalike_df = pd.DataFrame(lookalike_data)\n",
        "lookalike_df.to_csv('Lookalike.csv', index=False)"
      ],
      "metadata": {
        "id": "mdX11HhCpJs_"
      },
      "execution_count": 15,
      "outputs": []
    }
  ]
}